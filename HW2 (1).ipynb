{
 "cells": [
  {
   "cell_type": "code",
   "execution_count": 24,
   "id": "ef0e33e5",
   "metadata": {},
   "outputs": [],
   "source": [
    "import pandas as pd\n",
    "import numpy as np\n",
    "import matplotlib.pyplot as plt\n",
    "import seaborn as sns\n",
    "import os\n",
    "\n",
    "import dhs_util\n",
    "from dhs_util import *\n",
    "\n",
    "os.chdir('C:/Users/lukeh/OneDrive/Documents/College/Topics in Data Science/Unit 1')\n",
    "df = pd.read_csv('dhs_service_records_synthesized_final.csv')\n",
    "df = dhs_preprocessing(df)\n",
    "df, service_map = add_service_label(df)\n",
    "df = add_age_bin(df)\n",
    "\n",
    "recipient = get_recipient_attribute(df)"
   ]
  },
  {
   "cell_type": "code",
   "execution_count": 25,
   "id": "14a27251",
   "metadata": {},
   "outputs": [],
   "source": [
    "df_1 = df.query(\"service == 'S14'\")\n",
    "df_2 = df.query(\"service != 'S14'\")\n"
   ]
  },
  {
   "cell_type": "code",
   "execution_count": 40,
   "id": "3d5b5d0b",
   "metadata": {},
   "outputs": [],
   "source": [
    "age_lower = 24\n",
    "age_upper = 55\n",
    "id_cohort_age = df.query(\"age > @age_lower and age <= @age_upper\").id.unique()\n",
    "recipient_1 = get_recipient_attribute(df_1)\n",
    "recipient_2 = get_recipient_attribute(df_2)"
   ]
  },
  {
   "cell_type": "code",
   "execution_count": 38,
   "id": "70d005d8",
   "metadata": {},
   "outputs": [],
   "source": [
    "id_white_df_1 = df_1.query(\"race == '1~White'\")\n",
    "id_white_df_2 = df_2.query(\"race == '1~White'\")\n",
    "id_not_white_df_1 = df_1.query(\"race != '1~White'\")\n",
    "id_not_white_df_1 = id_not_white_df_1.query(\"race != '99~Unknown'\")\n",
    "id_not_white_df_2 = df_2.query(\"race != '1~White'\")\n",
    "id_not_white_df_2 = id_not_white_df_2.query(\"race != '99~Unknown'\")"
   ]
  },
  {
   "cell_type": "code",
   "execution_count": null,
   "id": "29ac2795",
   "metadata": {},
   "outputs": [],
   "source": [
    "id_white_df_1.nunique()"
   ]
  },
  {
   "cell_type": "code",
   "execution_count": null,
   "id": "44b298f1",
   "metadata": {},
   "outputs": [],
   "source": [
    "id_white_df_2.nunique()"
   ]
  },
  {
   "cell_type": "code",
   "execution_count": 47,
   "id": "26b774e4",
   "metadata": {},
   "outputs": [
    {
     "data": {
      "text/plain": [
       "0.09907763383193875"
      ]
     },
     "execution_count": 47,
     "metadata": {},
     "output_type": "execute_result"
    }
   ],
   "source": [
    "perc_white_using_S14 = 36801/ (36801+334635)\n",
    "perc_white_using_S14"
   ]
  },
  {
   "cell_type": "code",
   "execution_count": null,
   "id": "89c56fd8",
   "metadata": {},
   "outputs": [],
   "source": [
    "id_not_white_df_1"
   ]
  },
  {
   "cell_type": "code",
   "execution_count": null,
   "id": "cb1b3ed1",
   "metadata": {},
   "outputs": [],
   "source": [
    "id_not_white_df_2"
   ]
  },
  {
   "cell_type": "code",
   "execution_count": 48,
   "id": "c33cba21",
   "metadata": {},
   "outputs": [
    {
     "data": {
      "text/plain": [
       "0.08918440079470741"
      ]
     },
     "execution_count": 48,
     "metadata": {},
     "output_type": "execute_result"
    }
   ],
   "source": [
    "perc_not_white_using_S14 = 17417/(17417+177875)\n",
    "perc_not_white_using_S14"
   ]
  },
  {
   "cell_type": "markdown",
   "id": "a4c03f54",
   "metadata": {},
   "source": [
    "### Conclusion\n",
    "We found that white residents of this country were more likely to use Mental Helth services (S14) at 9.9% compared to the 8.9% of non white residents white recieved the same mental heath services\n",
    "This result could be for many different reasons but one could be that the county makes these services less accessable in areas that primarly have non white residents. "
   ]
  },
  {
   "cell_type": "code",
   "execution_count": null,
   "id": "dbd5c1a8",
   "metadata": {},
   "outputs": [],
   "source": []
  }
 ],
 "metadata": {
  "kernelspec": {
   "display_name": "Python 3 (ipykernel)",
   "language": "python",
   "name": "python3"
  },
  "language_info": {
   "codemirror_mode": {
    "name": "ipython",
    "version": 3
   },
   "file_extension": ".py",
   "mimetype": "text/x-python",
   "name": "python",
   "nbconvert_exporter": "python",
   "pygments_lexer": "ipython3",
   "version": "3.11.5"
  }
 },
 "nbformat": 4,
 "nbformat_minor": 5
}
