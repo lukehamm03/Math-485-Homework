{
 "cells": [
  {
   "cell_type": "code",
   "execution_count": 2,
   "id": "ef0e33e5",
   "metadata": {},
   "outputs": [],
   "source": [
    "import pandas as pd\n",
    "import numpy as np\n",
    "import matplotlib.pyplot as plt\n",
    "import seaborn as sns\n",
    "import os\n",
    "\n",
    "import dhs_util\n",
    "from dhs_util import *\n",
    "\n",
    "os.chdir('C:/Users/lukeh/OneDrive/Documents/College/Topics in Data Science/Unit 1')\n",
    "df = pd.read_csv('dhs_service_records_synthesized_final.csv')\n",
    "df = dhs_preprocessing(df)\n",
    "df, service_map = add_service_label(df)\n",
    "df = add_age_bin(df)\n",
    "\n",
    "recipient = get_recipient_attribute(df)"
   ]
  },
  {
   "cell_type": "code",
   "execution_count": 42,
   "id": "14a27251",
   "metadata": {},
   "outputs": [],
   "source": [
    "df_1 = df.query(\"serv == 'S14'\")\n",
    "df_2 = df.query(\"serv != 'S14'\")"
   ]
  },
  {
   "cell_type": "code",
   "execution_count": 44,
   "id": "3d5b5d0b",
   "metadata": {},
   "outputs": [],
   "source": [
    "age_lower = 24\n",
    "age_upper = 55\n",
    "id_cohort_age = df.query(\"age > @age_lower and age <= @age_upper\").id.unique()\n",
    "id_cohort_race = df.query(\"race != '99~Unknown'\").id.unique()\n",
    "recipient_1 = get_recipient_attribute(df_1)\n",
    "recipient_2 = get_recipient_attribute(df_2)"
   ]
  },
  {
   "cell_type": "code",
   "execution_count": 48,
   "id": "70d005d8",
   "metadata": {},
   "outputs": [],
   "source": [
    "id_white_df_1 = df_1.query(\"race == '1~White'\")\n",
    "id_white_df_2 = df_2.query(\"race == '1~White'\")\n",
    "id_not_white_df_1 = df_1.query(\"race != '1~White'\")\n",
    "id_not_white_df_1 = id_not_white_df_1.query(\"race != '99~Unknown'\")\n",
    "id_not_white_df_2 = df_2.query(\"race != '1~White'\")\n",
    "id_not_white_df_2 = id_not_white_df_2.query(\"race != '99~Unknown'\")"
   ]
  },
  {
   "cell_type": "code",
   "execution_count": 50,
   "id": "29ac2795",
   "metadata": {},
   "outputs": [
    {
     "data": {
      "text/plain": [
       "id           36801\n",
       "date            12\n",
       "service          1\n",
       "age            106\n",
       "gender           3\n",
       "race             1\n",
       "ethnicity        3\n",
       "marital          7\n",
       "education        8\n",
       "month           12\n",
       "serv             1\n",
       "age_bin         11\n",
       "dtype: int64"
      ]
     },
     "execution_count": 50,
     "metadata": {},
     "output_type": "execute_result"
    }
   ],
   "source": [
    "id_white_df_1.nunique()"
   ]
  },
  {
   "cell_type": "code",
   "execution_count": 52,
   "id": "44b298f1",
   "metadata": {},
   "outputs": [
    {
     "data": {
      "text/plain": [
       "id           334635\n",
       "date             12\n",
       "service          21\n",
       "age             109\n",
       "gender            3\n",
       "race              1\n",
       "ethnicity         3\n",
       "marital           7\n",
       "education         8\n",
       "month            12\n",
       "serv             21\n",
       "age_bin          11\n",
       "dtype: int64"
      ]
     },
     "execution_count": 52,
     "metadata": {},
     "output_type": "execute_result"
    }
   ],
   "source": [
    "id_white_df_2.nunique()"
   ]
  },
  {
   "cell_type": "code",
   "execution_count": 55,
   "id": "26b774e4",
   "metadata": {},
   "outputs": [
    {
     "data": {
      "text/plain": [
       "0.09907763383193875"
      ]
     },
     "execution_count": 55,
     "metadata": {},
     "output_type": "execute_result"
    }
   ],
   "source": [
    "perc_white_using_S14 = 36801/ (36801+334635)\n",
    "perc_white_using_S14"
   ]
  },
  {
   "cell_type": "code",
   "execution_count": null,
   "id": "39382a7a-a88a-4c05-b1ea-c7d413669d8a",
   "metadata": {},
   "outputs": [],
   "source": [
    "id_minority_df_1.nunique()"
   ]
  },
  {
   "cell_type": "code",
   "execution_count": 12,
   "id": "c33cba21",
   "metadata": {},
   "outputs": [
    {
     "data": {
      "text/plain": [
       "0.08918440079470741"
      ]
     },
     "execution_count": 12,
     "metadata": {},
     "output_type": "execute_result"
    }
   ],
   "source": [
    "perc_not_white_using_S14 = 17417/(17417+177875)\n",
    "perc_not_white_using_S14"
   ]
  },
  {
   "cell_type": "markdown",
   "id": "a4c03f54",
   "metadata": {},
   "source": [
    "### Conclusion\n",
    "We found that white residents of this country were more likely to use Mental Helth services (S14) at 9.9% compared to the 8.9% of non white residents white recieved the same mental heath services\n",
    "This result could be for many different reasons but one could be that the county makes these services less accessable in areas that primarly have non white residents. "
   ]
  },
  {
   "cell_type": "code",
   "execution_count": null,
   "id": "d959d12c-e8e4-41f2-b073-2e85269141e5",
   "metadata": {},
   "outputs": [],
   "source": []
  }
 ],
 "metadata": {
  "kernelspec": {
   "display_name": "Python 3 (ipykernel)",
   "language": "python",
   "name": "python3"
  },
  "language_info": {
   "codemirror_mode": {
    "name": "ipython",
    "version": 3
   },
   "file_extension": ".py",
   "mimetype": "text/x-python",
   "name": "python",
   "nbconvert_exporter": "python",
   "pygments_lexer": "ipython3",
   "version": "3.12.3"
  }
 },
 "nbformat": 4,
 "nbformat_minor": 5
}
